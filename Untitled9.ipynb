{
  "nbformat": 4,
  "nbformat_minor": 0,
  "metadata": {
    "colab": {
      "name": "Untitled9.ipynb",
      "provenance": [],
      "collapsed_sections": [],
      "include_colab_link": true
    },
    "kernelspec": {
      "name": "python3",
      "display_name": "Python 3"
    }
  },
  "cells": [
    {
      "cell_type": "markdown",
      "metadata": {
        "id": "view-in-github",
        "colab_type": "text"
      },
      "source": [
        "<a href=\"https://colab.research.google.com/github/cjflanagan/cs06/blob/master/Untitled9.ipynb\" target=\"_parent\"><img src=\"https://colab.research.google.com/assets/colab-badge.svg\" alt=\"Open In Colab\"/></a>"
      ]
    },
    {
      "cell_type": "code",
      "metadata": {
        "id": "k8YEWas7gXEz",
        "outputId": "93b88c9c-c3ee-4f8f-d91e-08142952361e",
        "colab": {
          "resources": {
            "http://localhost:8080/nbextensions/google.colab/files.js": {
              "data": "Ly8gQ29weXJpZ2h0IDIwMTcgR29vZ2xlIExMQwovLwovLyBMaWNlbnNlZCB1bmRlciB0aGUgQXBhY2hlIExpY2Vuc2UsIFZlcnNpb24gMi4wICh0aGUgIkxpY2Vuc2UiKTsKLy8geW91IG1heSBub3QgdXNlIHRoaXMgZmlsZSBleGNlcHQgaW4gY29tcGxpYW5jZSB3aXRoIHRoZSBMaWNlbnNlLgovLyBZb3UgbWF5IG9idGFpbiBhIGNvcHkgb2YgdGhlIExpY2Vuc2UgYXQKLy8KLy8gICAgICBodHRwOi8vd3d3LmFwYWNoZS5vcmcvbGljZW5zZXMvTElDRU5TRS0yLjAKLy8KLy8gVW5sZXNzIHJlcXVpcmVkIGJ5IGFwcGxpY2FibGUgbGF3IG9yIGFncmVlZCB0byBpbiB3cml0aW5nLCBzb2Z0d2FyZQovLyBkaXN0cmlidXRlZCB1bmRlciB0aGUgTGljZW5zZSBpcyBkaXN0cmlidXRlZCBvbiBhbiAiQVMgSVMiIEJBU0lTLAovLyBXSVRIT1VUIFdBUlJBTlRJRVMgT1IgQ09ORElUSU9OUyBPRiBBTlkgS0lORCwgZWl0aGVyIGV4cHJlc3Mgb3IgaW1wbGllZC4KLy8gU2VlIHRoZSBMaWNlbnNlIGZvciB0aGUgc3BlY2lmaWMgbGFuZ3VhZ2UgZ292ZXJuaW5nIHBlcm1pc3Npb25zIGFuZAovLyBsaW1pdGF0aW9ucyB1bmRlciB0aGUgTGljZW5zZS4KCi8qKgogKiBAZmlsZW92ZXJ2aWV3IEhlbHBlcnMgZm9yIGdvb2dsZS5jb2xhYiBQeXRob24gbW9kdWxlLgogKi8KKGZ1bmN0aW9uKHNjb3BlKSB7CmZ1bmN0aW9uIHNwYW4odGV4dCwgc3R5bGVBdHRyaWJ1dGVzID0ge30pIHsKICBjb25zdCBlbGVtZW50ID0gZG9jdW1lbnQuY3JlYXRlRWxlbWVudCgnc3BhbicpOwogIGVsZW1lbnQudGV4dENvbnRlbnQgPSB0ZXh0OwogIGZvciAoY29uc3Qga2V5IG9mIE9iamVjdC5rZXlzKHN0eWxlQXR0cmlidXRlcykpIHsKICAgIGVsZW1lbnQuc3R5bGVba2V5XSA9IHN0eWxlQXR0cmlidXRlc1trZXldOwogIH0KICByZXR1cm4gZWxlbWVudDsKfQoKLy8gTWF4IG51bWJlciBvZiBieXRlcyB3aGljaCB3aWxsIGJlIHVwbG9hZGVkIGF0IGEgdGltZS4KY29uc3QgTUFYX1BBWUxPQURfU0laRSA9IDEwMCAqIDEwMjQ7CgpmdW5jdGlvbiBfdXBsb2FkRmlsZXMoaW5wdXRJZCwgb3V0cHV0SWQpIHsKICBjb25zdCBzdGVwcyA9IHVwbG9hZEZpbGVzU3RlcChpbnB1dElkLCBvdXRwdXRJZCk7CiAgY29uc3Qgb3V0cHV0RWxlbWVudCA9IGRvY3VtZW50LmdldEVsZW1lbnRCeUlkKG91dHB1dElkKTsKICAvLyBDYWNoZSBzdGVwcyBvbiB0aGUgb3V0cHV0RWxlbWVudCB0byBtYWtlIGl0IGF2YWlsYWJsZSBmb3IgdGhlIG5leHQgY2FsbAogIC8vIHRvIHVwbG9hZEZpbGVzQ29udGludWUgZnJvbSBQeXRob24uCiAgb3V0cHV0RWxlbWVudC5zdGVwcyA9IHN0ZXBzOwoKICByZXR1cm4gX3VwbG9hZEZpbGVzQ29udGludWUob3V0cHV0SWQpOwp9CgovLyBUaGlzIGlzIHJvdWdobHkgYW4gYXN5bmMgZ2VuZXJhdG9yIChub3Qgc3VwcG9ydGVkIGluIHRoZSBicm93c2VyIHlldCksCi8vIHdoZXJlIHRoZXJlIGFyZSBtdWx0aXBsZSBhc3luY2hyb25vdXMgc3RlcHMgYW5kIHRoZSBQeXRob24gc2lkZSBpcyBnb2luZwovLyB0byBwb2xsIGZvciBjb21wbGV0aW9uIG9mIGVhY2ggc3RlcC4KLy8gVGhpcyB1c2VzIGEgUHJvbWlzZSB0byBibG9jayB0aGUgcHl0aG9uIHNpZGUgb24gY29tcGxldGlvbiBvZiBlYWNoIHN0ZXAsCi8vIHRoZW4gcGFzc2VzIHRoZSByZXN1bHQgb2YgdGhlIHByZXZpb3VzIHN0ZXAgYXMgdGhlIGlucHV0IHRvIHRoZSBuZXh0IHN0ZXAuCmZ1bmN0aW9uIF91cGxvYWRGaWxlc0NvbnRpbnVlKG91dHB1dElkKSB7CiAgY29uc3Qgb3V0cHV0RWxlbWVudCA9IGRvY3VtZW50LmdldEVsZW1lbnRCeUlkKG91dHB1dElkKTsKICBjb25zdCBzdGVwcyA9IG91dHB1dEVsZW1lbnQuc3RlcHM7CgogIGNvbnN0IG5leHQgPSBzdGVwcy5uZXh0KG91dHB1dEVsZW1lbnQubGFzdFByb21pc2VWYWx1ZSk7CiAgcmV0dXJuIFByb21pc2UucmVzb2x2ZShuZXh0LnZhbHVlLnByb21pc2UpLnRoZW4oKHZhbHVlKSA9PiB7CiAgICAvLyBDYWNoZSB0aGUgbGFzdCBwcm9taXNlIHZhbHVlIHRvIG1ha2UgaXQgYXZhaWxhYmxlIHRvIHRoZSBuZXh0CiAgICAvLyBzdGVwIG9mIHRoZSBnZW5lcmF0b3IuCiAgICBvdXRwdXRFbGVtZW50Lmxhc3RQcm9taXNlVmFsdWUgPSB2YWx1ZTsKICAgIHJldHVybiBuZXh0LnZhbHVlLnJlc3BvbnNlOwogIH0pOwp9CgovKioKICogR2VuZXJhdG9yIGZ1bmN0aW9uIHdoaWNoIGlzIGNhbGxlZCBiZXR3ZWVuIGVhY2ggYXN5bmMgc3RlcCBvZiB0aGUgdXBsb2FkCiAqIHByb2Nlc3MuCiAqIEBwYXJhbSB7c3RyaW5nfSBpbnB1dElkIEVsZW1lbnQgSUQgb2YgdGhlIGlucHV0IGZpbGUgcGlja2VyIGVsZW1lbnQuCiAqIEBwYXJhbSB7c3RyaW5nfSBvdXRwdXRJZCBFbGVtZW50IElEIG9mIHRoZSBvdXRwdXQgZGlzcGxheS4KICogQHJldHVybiB7IUl0ZXJhYmxlPCFPYmplY3Q+fSBJdGVyYWJsZSBvZiBuZXh0IHN0ZXBzLgogKi8KZnVuY3Rpb24qIHVwbG9hZEZpbGVzU3RlcChpbnB1dElkLCBvdXRwdXRJZCkgewogIGNvbnN0IGlucHV0RWxlbWVudCA9IGRvY3VtZW50LmdldEVsZW1lbnRCeUlkKGlucHV0SWQpOwogIGlucHV0RWxlbWVudC5kaXNhYmxlZCA9IGZhbHNlOwoKICBjb25zdCBvdXRwdXRFbGVtZW50ID0gZG9jdW1lbnQuZ2V0RWxlbWVudEJ5SWQob3V0cHV0SWQpOwogIG91dHB1dEVsZW1lbnQuaW5uZXJIVE1MID0gJyc7CgogIGNvbnN0IHBpY2tlZFByb21pc2UgPSBuZXcgUHJvbWlzZSgocmVzb2x2ZSkgPT4gewogICAgaW5wdXRFbGVtZW50LmFkZEV2ZW50TGlzdGVuZXIoJ2NoYW5nZScsIChlKSA9PiB7CiAgICAgIHJlc29sdmUoZS50YXJnZXQuZmlsZXMpOwogICAgfSk7CiAgfSk7CgogIGNvbnN0IGNhbmNlbCA9IGRvY3VtZW50LmNyZWF0ZUVsZW1lbnQoJ2J1dHRvbicpOwogIGlucHV0RWxlbWVudC5wYXJlbnRFbGVtZW50LmFwcGVuZENoaWxkKGNhbmNlbCk7CiAgY2FuY2VsLnRleHRDb250ZW50ID0gJ0NhbmNlbCB1cGxvYWQnOwogIGNvbnN0IGNhbmNlbFByb21pc2UgPSBuZXcgUHJvbWlzZSgocmVzb2x2ZSkgPT4gewogICAgY2FuY2VsLm9uY2xpY2sgPSAoKSA9PiB7CiAgICAgIHJlc29sdmUobnVsbCk7CiAgICB9OwogIH0pOwoKICAvLyBXYWl0IGZvciB0aGUgdXNlciB0byBwaWNrIHRoZSBmaWxlcy4KICBjb25zdCBmaWxlcyA9IHlpZWxkIHsKICAgIHByb21pc2U6IFByb21pc2UucmFjZShbcGlja2VkUHJvbWlzZSwgY2FuY2VsUHJvbWlzZV0pLAogICAgcmVzcG9uc2U6IHsKICAgICAgYWN0aW9uOiAnc3RhcnRpbmcnLAogICAgfQogIH07CgogIGNhbmNlbC5yZW1vdmUoKTsKCiAgLy8gRGlzYWJsZSB0aGUgaW5wdXQgZWxlbWVudCBzaW5jZSBmdXJ0aGVyIHBpY2tzIGFyZSBub3QgYWxsb3dlZC4KICBpbnB1dEVsZW1lbnQuZGlzYWJsZWQgPSB0cnVlOwoKICBpZiAoIWZpbGVzKSB7CiAgICByZXR1cm4gewogICAgICByZXNwb25zZTogewogICAgICAgIGFjdGlvbjogJ2NvbXBsZXRlJywKICAgICAgfQogICAgfTsKICB9CgogIGZvciAoY29uc3QgZmlsZSBvZiBmaWxlcykgewogICAgY29uc3QgbGkgPSBkb2N1bWVudC5jcmVhdGVFbGVtZW50KCdsaScpOwogICAgbGkuYXBwZW5kKHNwYW4oZmlsZS5uYW1lLCB7Zm9udFdlaWdodDogJ2JvbGQnfSkpOwogICAgbGkuYXBwZW5kKHNwYW4oCiAgICAgICAgYCgke2ZpbGUudHlwZSB8fCAnbi9hJ30pIC0gJHtmaWxlLnNpemV9IGJ5dGVzLCBgICsKICAgICAgICBgbGFzdCBtb2RpZmllZDogJHsKICAgICAgICAgICAgZmlsZS5sYXN0TW9kaWZpZWREYXRlID8gZmlsZS5sYXN0TW9kaWZpZWREYXRlLnRvTG9jYWxlRGF0ZVN0cmluZygpIDoKICAgICAgICAgICAgICAgICAgICAgICAgICAgICAgICAgICAgJ24vYSd9IC0gYCkpOwogICAgY29uc3QgcGVyY2VudCA9IHNwYW4oJzAlIGRvbmUnKTsKICAgIGxpLmFwcGVuZENoaWxkKHBlcmNlbnQpOwoKICAgIG91dHB1dEVsZW1lbnQuYXBwZW5kQ2hpbGQobGkpOwoKICAgIGNvbnN0IGZpbGVEYXRhUHJvbWlzZSA9IG5ldyBQcm9taXNlKChyZXNvbHZlKSA9PiB7CiAgICAgIGNvbnN0IHJlYWRlciA9IG5ldyBGaWxlUmVhZGVyKCk7CiAgICAgIHJlYWRlci5vbmxvYWQgPSAoZSkgPT4gewogICAgICAgIHJlc29sdmUoZS50YXJnZXQucmVzdWx0KTsKICAgICAgfTsKICAgICAgcmVhZGVyLnJlYWRBc0FycmF5QnVmZmVyKGZpbGUpOwogICAgfSk7CiAgICAvLyBXYWl0IGZvciB0aGUgZGF0YSB0byBiZSByZWFkeS4KICAgIGxldCBmaWxlRGF0YSA9IHlpZWxkIHsKICAgICAgcHJvbWlzZTogZmlsZURhdGFQcm9taXNlLAogICAgICByZXNwb25zZTogewogICAgICAgIGFjdGlvbjogJ2NvbnRpbnVlJywKICAgICAgfQogICAgfTsKCiAgICAvLyBVc2UgYSBjaHVua2VkIHNlbmRpbmcgdG8gYXZvaWQgbWVzc2FnZSBzaXplIGxpbWl0cy4gU2VlIGIvNjIxMTU2NjAuCiAgICBsZXQgcG9zaXRpb24gPSAwOwogICAgd2hpbGUgKHBvc2l0aW9uIDwgZmlsZURhdGEuYnl0ZUxlbmd0aCkgewogICAgICBjb25zdCBsZW5ndGggPSBNYXRoLm1pbihmaWxlRGF0YS5ieXRlTGVuZ3RoIC0gcG9zaXRpb24sIE1BWF9QQVlMT0FEX1NJWkUpOwogICAgICBjb25zdCBjaHVuayA9IG5ldyBVaW50OEFycmF5KGZpbGVEYXRhLCBwb3NpdGlvbiwgbGVuZ3RoKTsKICAgICAgcG9zaXRpb24gKz0gbGVuZ3RoOwoKICAgICAgY29uc3QgYmFzZTY0ID0gYnRvYShTdHJpbmcuZnJvbUNoYXJDb2RlLmFwcGx5KG51bGwsIGNodW5rKSk7CiAgICAgIHlpZWxkIHsKICAgICAgICByZXNwb25zZTogewogICAgICAgICAgYWN0aW9uOiAnYXBwZW5kJywKICAgICAgICAgIGZpbGU6IGZpbGUubmFtZSwKICAgICAgICAgIGRhdGE6IGJhc2U2NCwKICAgICAgICB9LAogICAgICB9OwogICAgICBwZXJjZW50LnRleHRDb250ZW50ID0KICAgICAgICAgIGAke01hdGgucm91bmQoKHBvc2l0aW9uIC8gZmlsZURhdGEuYnl0ZUxlbmd0aCkgKiAxMDApfSUgZG9uZWA7CiAgICB9CiAgfQoKICAvLyBBbGwgZG9uZS4KICB5aWVsZCB7CiAgICByZXNwb25zZTogewogICAgICBhY3Rpb246ICdjb21wbGV0ZScsCiAgICB9CiAgfTsKfQoKc2NvcGUuZ29vZ2xlID0gc2NvcGUuZ29vZ2xlIHx8IHt9OwpzY29wZS5nb29nbGUuY29sYWIgPSBzY29wZS5nb29nbGUuY29sYWIgfHwge307CnNjb3BlLmdvb2dsZS5jb2xhYi5fZmlsZXMgPSB7CiAgX3VwbG9hZEZpbGVzLAogIF91cGxvYWRGaWxlc0NvbnRpbnVlLAp9Owp9KShzZWxmKTsK",
              "ok": true,
              "headers": [
                [
                  "content-type",
                  "application/javascript"
                ]
              ],
              "status": 200,
              "status_text": ""
            }
          },
          "base_uri": "https://localhost:8080/",
          "height": 72
        }
      },
      "source": [
        "from google.colab import files\n",
        "uploaded = files.upload()"
      ],
      "execution_count": null,
      "outputs": [
        {
          "output_type": "display_data",
          "data": {
            "text/html": [
              "\n",
              "     <input type=\"file\" id=\"files-7d07a66e-660c-4df7-be44-e218f61435e0\" name=\"files[]\" multiple disabled\n",
              "        style=\"border:none\" />\n",
              "     <output id=\"result-7d07a66e-660c-4df7-be44-e218f61435e0\">\n",
              "      Upload widget is only available when the cell has been executed in the\n",
              "      current browser session. Please rerun this cell to enable.\n",
              "      </output>\n",
              "      <script src=\"/nbextensions/google.colab/files.js\"></script> "
            ],
            "text/plain": [
              "<IPython.core.display.HTML object>"
            ]
          },
          "metadata": {
            "tags": []
          }
        },
        {
          "output_type": "stream",
          "text": [
            "Saving countries of the world.csv to countries of the world.csv\n"
          ],
          "name": "stdout"
        }
      ]
    },
    {
      "cell_type": "code",
      "metadata": {
        "id": "tB4F-QaWg0cX"
      },
      "source": [
        "import pandas as pd\n",
        "import numpy as np\n",
        "import altair as alt"
      ],
      "execution_count": null,
      "outputs": []
    },
    {
      "cell_type": "code",
      "metadata": {
        "id": "NKeSEpwIgdH8"
      },
      "source": [
        "import io\n",
        "df2 = pd.read_csv(io.BytesIO(uploaded['countries of the world.csv']))"
      ],
      "execution_count": null,
      "outputs": []
    },
    {
      "cell_type": "code",
      "metadata": {
        "id": "56_6LWMKgv5s",
        "outputId": "94fdaf7b-bffb-43bf-acb6-668b66fbb360",
        "colab": {
          "base_uri": "https://localhost:8080/"
        }
      },
      "source": [
        "#preprocess\n",
        "countries=df2\n",
        "countries = countries.rename(columns={\"Literacy (%)\":\"Literacy\", \"Phones (per 1000)\":\"Phones_per_1000\",\"Infant mortality (per 1000 births)\":\"Infant_Mortality_per_1000\", \"Pop. Density (per sq. mi.)\":\"Density\",\"Area (sq. mi.)\":\"Area_sq_mi\"   })\n",
        "countries = countries.rename(columns={\"GDP ($ per capita)\":\"GDP\"})\n",
        "countries.Deathrate.fillna(0)\n",
        "countries.Climate.fillna(0)\n",
        "countries.Deathrate[countries.Deathrate.isnull() == True] = 0\n",
        "countries.Deathrate = countries.Deathrate.str.replace(',','.')  \n",
        "countries.Birthrate = countries.Birthrate.str.replace(',','.')  \n",
        "countries.Deathrate.astype(float)\n",
        "countries.Birthrate.astype(float) \n",
        "\n",
        "countries.Literacy = countries.Literacy.str.replace(',','.')\n",
        "countries['Literacy'] = countries['Literacy'].astype(float)\n",
        "\n",
        "\n",
        "\n",
        "high_gdp_df = countries.sort_values(by=['GDP'], ascending=False)[:10]\n",
        "low_gdp_df = countries.sort_values(by=['GDP'])[:10]\n",
        "frames = [high_gdp_df, low_gdp_df]\n",
        "gdp_data = pd.concat(frames)\n",
        "gdp_data[\"Climate_desc\"] = \"Dry\"\n",
        "gdp_data[\"Population_normalized\"] = (gdp_data.Population)/(gdp_data.Population.max())\n",
        "print(\"high_gdp_df shape :\",high_gdp_df.shape)\n",
        "print(\"low_gdp_df shape :\",low_gdp_df.shape)\n",
        "\n",
        "\n",
        "\n"
      ],
      "execution_count": null,
      "outputs": [
        {
          "output_type": "stream",
          "text": [
            "high_gdp_df shape : (10, 20)\n",
            "low_gdp_df shape : (10, 20)\n"
          ],
          "name": "stdout"
        },
        {
          "output_type": "stream",
          "text": [
            "/usr/local/lib/python3.6/dist-packages/ipykernel_launcher.py:7: SettingWithCopyWarning: \n",
            "A value is trying to be set on a copy of a slice from a DataFrame\n",
            "\n",
            "See the caveats in the documentation: https://pandas.pydata.org/pandas-docs/stable/user_guide/indexing.html#returning-a-view-versus-a-copy\n",
            "  import sys\n"
          ],
          "name": "stderr"
        }
      ]
    },
    {
      "cell_type": "code",
      "metadata": {
        "id": "0sBsjGQ5FYWY"
      },
      "source": [
        "gdp_data.head()\n",
        "\n",
        "for index, row in gdp_data.iterrows():\n",
        "  if row.Climate == \"1\":\n",
        "    gdp_data.loc[index,'Climate_desc'] = \"Dry tropical\"\n",
        "  elif row.Climate == \"2\":\n",
        "    gdp_data.loc[index,'Climate_desc'] = \"Wet tropical\"\n",
        "  elif row.Climate == \"3\":\n",
        "    gdp_data.loc[index,'Climate_desc'] = \"Humid\"\n",
        "  elif row.Climate == \"4\":\n",
        "    gdp_data.loc[index,'Climate_desc'] = \"Dry Hot\"\n",
        "  else:\n",
        "    gdp_data.loc[index,'Climate_desc'] = \"Unknown\"\n",
        "  \n"
      ],
      "execution_count": null,
      "outputs": []
    },
    {
      "cell_type": "code",
      "metadata": {
        "id": "jlo5ZgNULdPZ",
        "outputId": "66e08739-cc0c-4727-c92a-000cdb4bda0d",
        "colab": {
          "base_uri": "https://localhost:8080/",
          "height": 377
        }
      },
      "source": [
        "print(\"Population min and max :\",countries.Population.min(), countries.Population.max(), countries.Population.mean())\n",
        "gdp_data.head()"
      ],
      "execution_count": null,
      "outputs": [
        {
          "output_type": "stream",
          "text": [
            "Population min and max : 7026 1313973713 28740284.365638766\n"
          ],
          "name": "stdout"
        },
        {
          "output_type": "execute_result",
          "data": {
            "text/html": [
              "<div>\n",
              "<style scoped>\n",
              "    .dataframe tbody tr th:only-of-type {\n",
              "        vertical-align: middle;\n",
              "    }\n",
              "\n",
              "    .dataframe tbody tr th {\n",
              "        vertical-align: top;\n",
              "    }\n",
              "\n",
              "    .dataframe thead th {\n",
              "        text-align: right;\n",
              "    }\n",
              "</style>\n",
              "<table border=\"1\" class=\"dataframe\">\n",
              "  <thead>\n",
              "    <tr style=\"text-align: right;\">\n",
              "      <th></th>\n",
              "      <th>Country</th>\n",
              "      <th>Region</th>\n",
              "      <th>Population</th>\n",
              "      <th>Area_sq_mi</th>\n",
              "      <th>Density</th>\n",
              "      <th>Coastline (coast/area ratio)</th>\n",
              "      <th>Net migration</th>\n",
              "      <th>Infant_Mortality_per_1000</th>\n",
              "      <th>GDP</th>\n",
              "      <th>Literacy</th>\n",
              "      <th>Phones_per_1000</th>\n",
              "      <th>Arable (%)</th>\n",
              "      <th>Crops (%)</th>\n",
              "      <th>Other (%)</th>\n",
              "      <th>Climate</th>\n",
              "      <th>Birthrate</th>\n",
              "      <th>Deathrate</th>\n",
              "      <th>Agriculture</th>\n",
              "      <th>Industry</th>\n",
              "      <th>Service</th>\n",
              "      <th>Climate_desc</th>\n",
              "      <th>Population_normalized</th>\n",
              "    </tr>\n",
              "  </thead>\n",
              "  <tbody>\n",
              "    <tr>\n",
              "      <th>121</th>\n",
              "      <td>Luxembourg</td>\n",
              "      <td>WESTERN EUROPE</td>\n",
              "      <td>474413</td>\n",
              "      <td>2586</td>\n",
              "      <td>183,5</td>\n",
              "      <td>0,00</td>\n",
              "      <td>8,97</td>\n",
              "      <td>4,81</td>\n",
              "      <td>55100.0</td>\n",
              "      <td>100.0</td>\n",
              "      <td>515,4</td>\n",
              "      <td>23,28</td>\n",
              "      <td>0,4</td>\n",
              "      <td>76,32</td>\n",
              "      <td>NaN</td>\n",
              "      <td>11.94</td>\n",
              "      <td>8.41</td>\n",
              "      <td>0,01</td>\n",
              "      <td>0,13</td>\n",
              "      <td>0,86</td>\n",
              "      <td>Unknown</td>\n",
              "      <td>0.001590</td>\n",
              "    </tr>\n",
              "    <tr>\n",
              "      <th>154</th>\n",
              "      <td>Norway</td>\n",
              "      <td>WESTERN EUROPE</td>\n",
              "      <td>4610820</td>\n",
              "      <td>323802</td>\n",
              "      <td>14,2</td>\n",
              "      <td>7,77</td>\n",
              "      <td>1,74</td>\n",
              "      <td>3,7</td>\n",
              "      <td>37800.0</td>\n",
              "      <td>100.0</td>\n",
              "      <td>461,7</td>\n",
              "      <td>2,87</td>\n",
              "      <td>0</td>\n",
              "      <td>97,13</td>\n",
              "      <td>3</td>\n",
              "      <td>11.46</td>\n",
              "      <td>9.4</td>\n",
              "      <td>0,021</td>\n",
              "      <td>0,415</td>\n",
              "      <td>0,564</td>\n",
              "      <td>Humid</td>\n",
              "      <td>0.015450</td>\n",
              "    </tr>\n",
              "    <tr>\n",
              "      <th>214</th>\n",
              "      <td>United States</td>\n",
              "      <td>NORTHERN AMERICA</td>\n",
              "      <td>298444215</td>\n",
              "      <td>9631420</td>\n",
              "      <td>31,0</td>\n",
              "      <td>0,21</td>\n",
              "      <td>3,41</td>\n",
              "      <td>6,5</td>\n",
              "      <td>37800.0</td>\n",
              "      <td>97.0</td>\n",
              "      <td>898,0</td>\n",
              "      <td>19,13</td>\n",
              "      <td>0,22</td>\n",
              "      <td>80,65</td>\n",
              "      <td>3</td>\n",
              "      <td>14.14</td>\n",
              "      <td>8.26</td>\n",
              "      <td>0,01</td>\n",
              "      <td>0,204</td>\n",
              "      <td>0,787</td>\n",
              "      <td>Humid</td>\n",
              "      <td>1.000000</td>\n",
              "    </tr>\n",
              "    <tr>\n",
              "      <th>22</th>\n",
              "      <td>Bermuda</td>\n",
              "      <td>NORTHERN AMERICA</td>\n",
              "      <td>65773</td>\n",
              "      <td>53</td>\n",
              "      <td>1241,0</td>\n",
              "      <td>194,34</td>\n",
              "      <td>2,49</td>\n",
              "      <td>8,53</td>\n",
              "      <td>36000.0</td>\n",
              "      <td>98.0</td>\n",
              "      <td>851,4</td>\n",
              "      <td>20</td>\n",
              "      <td>0</td>\n",
              "      <td>80</td>\n",
              "      <td>2</td>\n",
              "      <td>11.4</td>\n",
              "      <td>7.74</td>\n",
              "      <td>0,01</td>\n",
              "      <td>0,1</td>\n",
              "      <td>0,89</td>\n",
              "      <td>Wet tropical</td>\n",
              "      <td>0.000220</td>\n",
              "    </tr>\n",
              "    <tr>\n",
              "      <th>38</th>\n",
              "      <td>Cayman Islands</td>\n",
              "      <td>LATIN AMER. &amp; CARIB</td>\n",
              "      <td>45436</td>\n",
              "      <td>262</td>\n",
              "      <td>173,4</td>\n",
              "      <td>61,07</td>\n",
              "      <td>18,75</td>\n",
              "      <td>8,19</td>\n",
              "      <td>35000.0</td>\n",
              "      <td>98.0</td>\n",
              "      <td>836,3</td>\n",
              "      <td>3,85</td>\n",
              "      <td>0</td>\n",
              "      <td>96,15</td>\n",
              "      <td>2</td>\n",
              "      <td>12.74</td>\n",
              "      <td>4.89</td>\n",
              "      <td>0,014</td>\n",
              "      <td>0,032</td>\n",
              "      <td>0,954</td>\n",
              "      <td>Wet tropical</td>\n",
              "      <td>0.000152</td>\n",
              "    </tr>\n",
              "  </tbody>\n",
              "</table>\n",
              "</div>"
            ],
            "text/plain": [
              "             Country  ... Population_normalized\n",
              "121      Luxembourg   ...              0.001590\n",
              "154          Norway   ...              0.015450\n",
              "214   United States   ...              1.000000\n",
              "22          Bermuda   ...              0.000220\n",
              "38   Cayman Islands   ...              0.000152\n",
              "\n",
              "[5 rows x 22 columns]"
            ]
          },
          "metadata": {
            "tags": []
          },
          "execution_count": 228
        }
      ]
    },
    {
      "cell_type": "code",
      "metadata": {
        "id": "db0R-7Tcg71q",
        "outputId": "c1bb9e10-8234-4e3d-cf65-34e29c45866f",
        "colab": {
          "base_uri": "https://localhost:8080/",
          "height": 480
        }
      },
      "source": [
        "bars = alt.Chart(gdp_data).mark_bar().encode(\n",
        "          x = alt.X(\"GDP:Q\", stack='zero'), \n",
        "          y=alt.Y(\"Country:N\"), \n",
        "          color=\"Climate_desc\", tooltip=\"Population\")\n",
        "text = bars.mark_text(\n",
        "    align='left',\n",
        "    baseline='middle',\n",
        "    dx=3  # Nudges text to right so it doesn't appear on top of the bar\n",
        ").encode(\n",
        "    text='Deathrate:Q'\n",
        ")\n",
        "\n",
        "\n",
        "text2 = alt.Chart(gdp_data).mark_text(dx=-15, dy=3, color='white').encode(\n",
        "    x = alt.X(\"GDP:Q\", stack='zero'),\n",
        "    y= alt.Y(\"Country:N\"),\n",
        "    detail=\"Climate_desc:N\",\n",
        "    text=alt.Text('Population:Q', format='.1f')\n",
        ")\n",
        "\n",
        "(bars + text + text2).interactive().properties(title='Countries GDP, Population and Deathrate')"
      ],
      "execution_count": null,
      "outputs": [
        {
          "output_type": "execute_result",
          "data": {
            "text/plain": [
              "alt.LayerChart(...)"
            ],
            "text/html": [
              "\n",
              "<div id=\"altair-viz-6d3c7fa37d9a4f4a86a8276c410e94ff\"></div>\n",
              "<script type=\"text/javascript\">\n",
              "  (function(spec, embedOpt){\n",
              "    let outputDiv = document.currentScript.previousElementSibling;\n",
              "    if (outputDiv.id !== \"altair-viz-6d3c7fa37d9a4f4a86a8276c410e94ff\") {\n",
              "      outputDiv = document.getElementById(\"altair-viz-6d3c7fa37d9a4f4a86a8276c410e94ff\");\n",
              "    }\n",
              "    const paths = {\n",
              "      \"vega\": \"https://cdn.jsdelivr.net/npm//vega@5?noext\",\n",
              "      \"vega-lib\": \"https://cdn.jsdelivr.net/npm//vega-lib?noext\",\n",
              "      \"vega-lite\": \"https://cdn.jsdelivr.net/npm//vega-lite@4.8.1?noext\",\n",
              "      \"vega-embed\": \"https://cdn.jsdelivr.net/npm//vega-embed@6?noext\",\n",
              "    };\n",
              "\n",
              "    function loadScript(lib) {\n",
              "      return new Promise(function(resolve, reject) {\n",
              "        var s = document.createElement('script');\n",
              "        s.src = paths[lib];\n",
              "        s.async = true;\n",
              "        s.onload = () => resolve(paths[lib]);\n",
              "        s.onerror = () => reject(`Error loading script: ${paths[lib]}`);\n",
              "        document.getElementsByTagName(\"head\")[0].appendChild(s);\n",
              "      });\n",
              "    }\n",
              "\n",
              "    function showError(err) {\n",
              "      outputDiv.innerHTML = `<div class=\"error\" style=\"color:red;\">${err}</div>`;\n",
              "      throw err;\n",
              "    }\n",
              "\n",
              "    function displayChart(vegaEmbed) {\n",
              "      vegaEmbed(outputDiv, spec, embedOpt)\n",
              "        .catch(err => showError(`Javascript Error: ${err.message}<br>This usually means there's a typo in your chart specification. See the javascript console for the full traceback.`));\n",
              "    }\n",
              "\n",
              "    if(typeof define === \"function\" && define.amd) {\n",
              "      requirejs.config({paths});\n",
              "      require([\"vega-embed\"], displayChart, err => showError(`Error loading script: ${err.message}`));\n",
              "    } else if (typeof vegaEmbed === \"function\") {\n",
              "      displayChart(vegaEmbed);\n",
              "    } else {\n",
              "      loadScript(\"vega\")\n",
              "        .then(() => loadScript(\"vega-lite\"))\n",
              "        .then(() => loadScript(\"vega-embed\"))\n",
              "        .catch(showError)\n",
              "        .then(() => displayChart(vegaEmbed));\n",
              "    }\n",
              "  })({\"config\": {\"view\": {\"continuousWidth\": 400, \"continuousHeight\": 300}}, \"layer\": [{\"mark\": \"bar\", \"encoding\": {\"color\": {\"type\": \"nominal\", \"field\": \"Climate_desc\"}, \"tooltip\": {\"type\": \"quantitative\", \"field\": \"Population\"}, \"x\": {\"type\": \"quantitative\", \"field\": \"GDP\", \"stack\": \"zero\"}, \"y\": {\"type\": \"nominal\", \"field\": \"Country\"}}, \"selection\": {\"selector031\": {\"type\": \"interval\", \"bind\": \"scales\", \"encodings\": [\"x\", \"y\"]}}}, {\"mark\": {\"type\": \"text\", \"align\": \"left\", \"baseline\": \"middle\", \"dx\": 3}, \"encoding\": {\"color\": {\"type\": \"nominal\", \"field\": \"Climate_desc\"}, \"text\": {\"type\": \"quantitative\", \"field\": \"Deathrate\"}, \"tooltip\": {\"type\": \"quantitative\", \"field\": \"Population\"}, \"x\": {\"type\": \"quantitative\", \"field\": \"GDP\", \"stack\": \"zero\"}, \"y\": {\"type\": \"nominal\", \"field\": \"Country\"}}}, {\"mark\": {\"type\": \"text\", \"color\": \"white\", \"dx\": -15, \"dy\": 3}, \"encoding\": {\"detail\": {\"type\": \"nominal\", \"field\": \"Climate_desc\"}, \"text\": {\"type\": \"quantitative\", \"field\": \"Population\", \"format\": \".1f\"}, \"x\": {\"type\": \"quantitative\", \"field\": \"GDP\", \"stack\": \"zero\"}, \"y\": {\"type\": \"nominal\", \"field\": \"Country\"}}}], \"data\": {\"name\": \"data-b5dbb04f4578e588524ad985e1b26fb0\"}, \"title\": \"Countries GDP, Population and Deathrate\", \"$schema\": \"https://vega.github.io/schema/vega-lite/v4.8.1.json\", \"datasets\": {\"data-b5dbb04f4578e588524ad985e1b26fb0\": [{\"Country\": \"Luxembourg \", \"Region\": \"WESTERN EUROPE                     \", \"Population\": 474413, \"Area_sq_mi\": 2586, \"Density\": \"183,5\", \"Coastline (coast/area ratio)\": \"0,00\", \"Net migration\": \"8,97\", \"Infant_Mortality_per_1000\": \"4,81\", \"GDP\": 55100.0, \"Literacy\": 100.0, \"Phones_per_1000\": \"515,4\", \"Arable (%)\": \"23,28\", \"Crops (%)\": \"0,4\", \"Other (%)\": \"76,32\", \"Climate\": null, \"Birthrate\": \"11.94\", \"Deathrate\": \"8.41\", \"Agriculture\": \"0,01\", \"Industry\": \"0,13\", \"Service\": \"0,86\", \"Climate_desc\": \"Unknown\", \"Population_normalized\": 0.0015896203583641252}, {\"Country\": \"Norway \", \"Region\": \"WESTERN EUROPE                     \", \"Population\": 4610820, \"Area_sq_mi\": 323802, \"Density\": \"14,2\", \"Coastline (coast/area ratio)\": \"7,77\", \"Net migration\": \"1,74\", \"Infant_Mortality_per_1000\": \"3,7\", \"GDP\": 37800.0, \"Literacy\": 100.0, \"Phones_per_1000\": \"461,7\", \"Arable (%)\": \"2,87\", \"Crops (%)\": \"0\", \"Other (%)\": \"97,13\", \"Climate\": \"3\", \"Birthrate\": \"11.46\", \"Deathrate\": \"9.4\", \"Agriculture\": \"0,021\", \"Industry\": \"0,415\", \"Service\": \"0,564\", \"Climate_desc\": \"Humid\", \"Population_normalized\": 0.01544952044052856}, {\"Country\": \"United States \", \"Region\": \"NORTHERN AMERICA                   \", \"Population\": 298444215, \"Area_sq_mi\": 9631420, \"Density\": \"31,0\", \"Coastline (coast/area ratio)\": \"0,21\", \"Net migration\": \"3,41\", \"Infant_Mortality_per_1000\": \"6,5\", \"GDP\": 37800.0, \"Literacy\": 97.0, \"Phones_per_1000\": \"898,0\", \"Arable (%)\": \"19,13\", \"Crops (%)\": \"0,22\", \"Other (%)\": \"80,65\", \"Climate\": \"3\", \"Birthrate\": \"14.14\", \"Deathrate\": \"8.26\", \"Agriculture\": \"0,01\", \"Industry\": \"0,204\", \"Service\": \"0,787\", \"Climate_desc\": \"Humid\", \"Population_normalized\": 1.0}, {\"Country\": \"Bermuda \", \"Region\": \"NORTHERN AMERICA                   \", \"Population\": 65773, \"Area_sq_mi\": 53, \"Density\": \"1241,0\", \"Coastline (coast/area ratio)\": \"194,34\", \"Net migration\": \"2,49\", \"Infant_Mortality_per_1000\": \"8,53\", \"GDP\": 36000.0, \"Literacy\": 98.0, \"Phones_per_1000\": \"851,4\", \"Arable (%)\": \"20\", \"Crops (%)\": \"0\", \"Other (%)\": \"80\", \"Climate\": \"2\", \"Birthrate\": \"11.4\", \"Deathrate\": \"7.74\", \"Agriculture\": \"0,01\", \"Industry\": \"0,1\", \"Service\": \"0,89\", \"Climate_desc\": \"Wet tropical\", \"Population_normalized\": 0.00022038624538257509}, {\"Country\": \"Cayman Islands \", \"Region\": \"LATIN AMER. & CARIB    \", \"Population\": 45436, \"Area_sq_mi\": 262, \"Density\": \"173,4\", \"Coastline (coast/area ratio)\": \"61,07\", \"Net migration\": \"18,75\", \"Infant_Mortality_per_1000\": \"8,19\", \"GDP\": 35000.0, \"Literacy\": 98.0, \"Phones_per_1000\": \"836,3\", \"Arable (%)\": \"3,85\", \"Crops (%)\": \"0\", \"Other (%)\": \"96,15\", \"Climate\": \"2\", \"Birthrate\": \"12.74\", \"Deathrate\": \"4.89\", \"Agriculture\": \"0,014\", \"Industry\": \"0,032\", \"Service\": \"0,954\", \"Climate_desc\": \"Wet tropical\", \"Population_normalized\": 0.00015224285717851827}, {\"Country\": \"San Marino \", \"Region\": \"WESTERN EUROPE                     \", \"Population\": 29251, \"Area_sq_mi\": 61, \"Density\": \"479,5\", \"Coastline (coast/area ratio)\": \"0,00\", \"Net migration\": \"10,98\", \"Infant_Mortality_per_1000\": \"5,73\", \"GDP\": 34600.0, \"Literacy\": 96.0, \"Phones_per_1000\": \"704,3\", \"Arable (%)\": \"16,67\", \"Crops (%)\": \"0\", \"Other (%)\": \"83,33\", \"Climate\": null, \"Birthrate\": \"10.02\", \"Deathrate\": \"8.17\", \"Agriculture\": null, \"Industry\": null, \"Service\": null, \"Climate_desc\": \"Unknown\", \"Population_normalized\": 9.801161667683859e-05}, {\"Country\": \"Switzerland \", \"Region\": \"WESTERN EUROPE                     \", \"Population\": 7523934, \"Area_sq_mi\": 41290, \"Density\": \"182,2\", \"Coastline (coast/area ratio)\": \"0,00\", \"Net migration\": \"4,05\", \"Infant_Mortality_per_1000\": \"4,39\", \"GDP\": 32700.0, \"Literacy\": 99.0, \"Phones_per_1000\": \"680,9\", \"Arable (%)\": \"10,42\", \"Crops (%)\": \"0,61\", \"Other (%)\": \"88,97\", \"Climate\": \"3\", \"Birthrate\": \"9.71\", \"Deathrate\": \"8.49\", \"Agriculture\": \"0,015\", \"Industry\": \"0,34\", \"Service\": \"0,645\", \"Climate_desc\": \"Humid\", \"Population_normalized\": 0.025210520498780652}, {\"Country\": \"Denmark \", \"Region\": \"WESTERN EUROPE                     \", \"Population\": 5450661, \"Area_sq_mi\": 43094, \"Density\": \"126,5\", \"Coastline (coast/area ratio)\": \"16,97\", \"Net migration\": \"2,48\", \"Infant_Mortality_per_1000\": \"4,56\", \"GDP\": 31100.0, \"Literacy\": 100.0, \"Phones_per_1000\": \"614,6\", \"Arable (%)\": \"54,02\", \"Crops (%)\": \"0,19\", \"Other (%)\": \"45,79\", \"Climate\": \"3\", \"Birthrate\": \"11.13\", \"Deathrate\": \"10.36\", \"Agriculture\": \"0,018\", \"Industry\": \"0,246\", \"Service\": \"0,735\", \"Climate_desc\": \"Humid\", \"Population_normalized\": 0.01826358403361915}, {\"Country\": \"Iceland \", \"Region\": \"WESTERN EUROPE                     \", \"Population\": 299388, \"Area_sq_mi\": 103000, \"Density\": \"2,9\", \"Coastline (coast/area ratio)\": \"4,83\", \"Net migration\": \"2,38\", \"Infant_Mortality_per_1000\": \"3,31\", \"GDP\": 30900.0, \"Literacy\": 99.9, \"Phones_per_1000\": \"647,7\", \"Arable (%)\": \"0,07\", \"Crops (%)\": \"0\", \"Other (%)\": \"99,93\", \"Climate\": \"3\", \"Birthrate\": \"13.64\", \"Deathrate\": \"6.72\", \"Agriculture\": \"0,086\", \"Industry\": \"0,15\", \"Service\": \"0,765\", \"Climate_desc\": \"Humid\", \"Population_normalized\": 0.0010031623497878824}, {\"Country\": \"Austria \", \"Region\": \"WESTERN EUROPE                     \", \"Population\": 8192880, \"Area_sq_mi\": 83870, \"Density\": \"97,7\", \"Coastline (coast/area ratio)\": \"0,00\", \"Net migration\": \"2\", \"Infant_Mortality_per_1000\": \"4,66\", \"GDP\": 30000.0, \"Literacy\": 98.0, \"Phones_per_1000\": \"452,2\", \"Arable (%)\": \"16,91\", \"Crops (%)\": \"0,86\", \"Other (%)\": \"82,23\", \"Climate\": \"3\", \"Birthrate\": \"8.74\", \"Deathrate\": \"9.76\", \"Agriculture\": \"0,018\", \"Industry\": \"0,304\", \"Service\": \"0,678\", \"Climate_desc\": \"Humid\", \"Population_normalized\": 0.027451964515378527}, {\"Country\": \"East Timor \", \"Region\": \"ASIA (EX. NEAR EAST)         \", \"Population\": 1062777, \"Area_sq_mi\": 15007, \"Density\": \"70,8\", \"Coastline (coast/area ratio)\": \"4,70\", \"Net migration\": \"0\", \"Infant_Mortality_per_1000\": \"47,41\", \"GDP\": 500.0, \"Literacy\": 58.6, \"Phones_per_1000\": null, \"Arable (%)\": \"4,71\", \"Crops (%)\": \"0,67\", \"Other (%)\": \"94,62\", \"Climate\": \"2\", \"Birthrate\": \"26.99\", \"Deathrate\": \"6.24\", \"Agriculture\": \"0,085\", \"Industry\": \"0,231\", \"Service\": \"0,684\", \"Climate_desc\": \"Wet tropical\", \"Population_normalized\": 0.0035610574659656244}, {\"Country\": \"Somalia \", \"Region\": \"SUB-SAHARAN AFRICA                 \", \"Population\": 8863338, \"Area_sq_mi\": 637657, \"Density\": \"13,9\", \"Coastline (coast/area ratio)\": \"0,47\", \"Net migration\": \"5,37\", \"Infant_Mortality_per_1000\": \"116,7\", \"GDP\": 500.0, \"Literacy\": 37.8, \"Phones_per_1000\": \"11,3\", \"Arable (%)\": \"1,67\", \"Crops (%)\": \"0,04\", \"Other (%)\": \"98,29\", \"Climate\": \"1\", \"Birthrate\": \"45.13\", \"Deathrate\": \"16.63\", \"Agriculture\": \"0,65\", \"Industry\": \"0,1\", \"Service\": \"0,25\", \"Climate_desc\": \"Dry tropical\", \"Population_normalized\": 0.029698474805417152}, {\"Country\": \"Sierra Leone \", \"Region\": \"SUB-SAHARAN AFRICA                 \", \"Population\": 6005250, \"Area_sq_mi\": 71740, \"Density\": \"83,7\", \"Coastline (coast/area ratio)\": \"0,56\", \"Net migration\": \"0\", \"Infant_Mortality_per_1000\": \"143,64\", \"GDP\": 500.0, \"Literacy\": 31.4, \"Phones_per_1000\": \"4,0\", \"Arable (%)\": \"6,98\", \"Crops (%)\": \"0,89\", \"Other (%)\": \"92,13\", \"Climate\": \"2\", \"Birthrate\": \"45.76\", \"Deathrate\": \"23.03\", \"Agriculture\": \"0,49\", \"Industry\": \"0,31\", \"Service\": \"0,21\", \"Climate_desc\": \"Wet tropical\", \"Population_normalized\": 0.020121850912740928}, {\"Country\": \"Burundi \", \"Region\": \"SUB-SAHARAN AFRICA                 \", \"Population\": 8090068, \"Area_sq_mi\": 27830, \"Density\": \"290,7\", \"Coastline (coast/area ratio)\": \"0,00\", \"Net migration\": \"-0,06\", \"Infant_Mortality_per_1000\": \"69,29\", \"GDP\": 600.0, \"Literacy\": 51.6, \"Phones_per_1000\": \"3,4\", \"Arable (%)\": \"35,05\", \"Crops (%)\": \"14,02\", \"Other (%)\": \"50,93\", \"Climate\": \"2\", \"Birthrate\": \"42.22\", \"Deathrate\": \"13.46\", \"Agriculture\": \"0,463\", \"Industry\": \"0,203\", \"Service\": \"0,334\", \"Climate_desc\": \"Wet tropical\", \"Population_normalized\": 0.027107471324247314}, {\"Country\": \"Tanzania \", \"Region\": \"SUB-SAHARAN AFRICA                 \", \"Population\": 37445392, \"Area_sq_mi\": 945087, \"Density\": \"39,6\", \"Coastline (coast/area ratio)\": \"0,15\", \"Net migration\": \"-2,06\", \"Infant_Mortality_per_1000\": \"98,54\", \"GDP\": 600.0, \"Literacy\": 78.2, \"Phones_per_1000\": \"4,0\", \"Arable (%)\": \"4,52\", \"Crops (%)\": \"1,08\", \"Other (%)\": \"94,4\", \"Climate\": null, \"Birthrate\": \"37.71\", \"Deathrate\": \"16.39\", \"Agriculture\": \"0,432\", \"Industry\": \"0,172\", \"Service\": \"0,396\", \"Climate_desc\": \"Unknown\", \"Population_normalized\": 0.12546864746565786}, {\"Country\": \"Gaza Strip \", \"Region\": \"NEAR EAST                          \", \"Population\": 1428757, \"Area_sq_mi\": 360, \"Density\": \"3968,8\", \"Coastline (coast/area ratio)\": \"11,11\", \"Net migration\": \"1,6\", \"Infant_Mortality_per_1000\": \"22,93\", \"GDP\": 600.0, \"Literacy\": null, \"Phones_per_1000\": \"244,3\", \"Arable (%)\": \"28,95\", \"Crops (%)\": \"21,05\", \"Other (%)\": \"50\", \"Climate\": \"3\", \"Birthrate\": \"39.45\", \"Deathrate\": \"3.8\", \"Agriculture\": \"0,03\", \"Industry\": \"0,283\", \"Service\": \"0,687\", \"Climate_desc\": \"Humid\", \"Population_normalized\": 0.004787350292583155}, {\"Country\": \"Malawi \", \"Region\": \"SUB-SAHARAN AFRICA                 \", \"Population\": 13013926, \"Area_sq_mi\": 118480, \"Density\": \"109,8\", \"Coastline (coast/area ratio)\": \"0,00\", \"Net migration\": \"0\", \"Infant_Mortality_per_1000\": \"103,32\", \"GDP\": 600.0, \"Literacy\": 62.7, \"Phones_per_1000\": \"7,9\", \"Arable (%)\": \"23,38\", \"Crops (%)\": \"1,49\", \"Other (%)\": \"75,13\", \"Climate\": \"2\", \"Birthrate\": \"43.13\", \"Deathrate\": \"19.33\", \"Agriculture\": \"0,342\", \"Industry\": \"0,158\", \"Service\": \"0,499\", \"Climate_desc\": \"Wet tropical\", \"Population_normalized\": 0.0436058913053483}, {\"Country\": \"Afghanistan \", \"Region\": \"ASIA (EX. NEAR EAST)         \", \"Population\": 31056997, \"Area_sq_mi\": 647500, \"Density\": \"48,0\", \"Coastline (coast/area ratio)\": \"0,00\", \"Net migration\": \"23,06\", \"Infant_Mortality_per_1000\": \"163,07\", \"GDP\": 700.0, \"Literacy\": 36.0, \"Phones_per_1000\": \"3,2\", \"Arable (%)\": \"12,13\", \"Crops (%)\": \"0,22\", \"Other (%)\": \"87,65\", \"Climate\": \"1\", \"Birthrate\": \"46.6\", \"Deathrate\": \"20.34\", \"Agriculture\": \"0,38\", \"Industry\": \"0,24\", \"Service\": \"0,38\", \"Climate_desc\": \"Dry tropical\", \"Population_normalized\": 0.10406298879004909}, {\"Country\": \"Congo, Repub. of the \", \"Region\": \"SUB-SAHARAN AFRICA                 \", \"Population\": 3702314, \"Area_sq_mi\": 342000, \"Density\": \"10,8\", \"Coastline (coast/area ratio)\": \"0,05\", \"Net migration\": \"-0,17\", \"Infant_Mortality_per_1000\": \"93,86\", \"GDP\": 700.0, \"Literacy\": 83.8, \"Phones_per_1000\": \"3,7\", \"Arable (%)\": \"0,51\", \"Crops (%)\": \"0,13\", \"Other (%)\": \"99,36\", \"Climate\": \"2\", \"Birthrate\": \"42.57\", \"Deathrate\": \"12.93\", \"Agriculture\": \"0,062\", \"Industry\": \"0,57\", \"Service\": \"0,369\", \"Climate_desc\": \"Wet tropical\", \"Population_normalized\": 0.012405380348886977}, {\"Country\": \"Eritrea \", \"Region\": \"SUB-SAHARAN AFRICA                 \", \"Population\": 4786994, \"Area_sq_mi\": 121320, \"Density\": \"39,5\", \"Coastline (coast/area ratio)\": \"1,84\", \"Net migration\": \"0\", \"Infant_Mortality_per_1000\": \"74,87\", \"GDP\": 700.0, \"Literacy\": 58.6, \"Phones_per_1000\": \"7,9\", \"Arable (%)\": \"4,95\", \"Crops (%)\": \"0,03\", \"Other (%)\": \"95,02\", \"Climate\": \"1,5\", \"Birthrate\": \"34.33\", \"Deathrate\": \"9.6\", \"Agriculture\": \"0,102\", \"Industry\": \"0,254\", \"Service\": \"0,643\", \"Climate_desc\": \"Unknown\", \"Population_normalized\": 0.01603982841483458}]}}, {\"mode\": \"vega-lite\"});\n",
              "</script>"
            ]
          },
          "metadata": {
            "tags": []
          },
          "execution_count": 254
        }
      ]
    },
    {
      "cell_type": "code",
      "metadata": {
        "id": "5JIzy2vIiBST",
        "outputId": "466150c1-6ad0-4b7d-8e41-874934b71a87",
        "colab": {
          "base_uri": "https://localhost:8080/",
          "height": 471
        }
      },
      "source": [
        "alt.Chart(gdp_data).mark_circle(size=100).encode(\n",
        "    x=\"Country\", \n",
        "    y=\"Literacy:Q\", \n",
        "    color=\"Region\", \n",
        "    tooltip=\"GDP\").interactive().properties(title='Countries Literacy')"
      ],
      "execution_count": null,
      "outputs": [
        {
          "output_type": "execute_result",
          "data": {
            "text/plain": [
              "alt.Chart(...)"
            ],
            "text/html": [
              "\n",
              "<div id=\"altair-viz-40bfb2679ef9493d934a5a0527de3fb4\"></div>\n",
              "<script type=\"text/javascript\">\n",
              "  (function(spec, embedOpt){\n",
              "    let outputDiv = document.currentScript.previousElementSibling;\n",
              "    if (outputDiv.id !== \"altair-viz-40bfb2679ef9493d934a5a0527de3fb4\") {\n",
              "      outputDiv = document.getElementById(\"altair-viz-40bfb2679ef9493d934a5a0527de3fb4\");\n",
              "    }\n",
              "    const paths = {\n",
              "      \"vega\": \"https://cdn.jsdelivr.net/npm//vega@5?noext\",\n",
              "      \"vega-lib\": \"https://cdn.jsdelivr.net/npm//vega-lib?noext\",\n",
              "      \"vega-lite\": \"https://cdn.jsdelivr.net/npm//vega-lite@4.8.1?noext\",\n",
              "      \"vega-embed\": \"https://cdn.jsdelivr.net/npm//vega-embed@6?noext\",\n",
              "    };\n",
              "\n",
              "    function loadScript(lib) {\n",
              "      return new Promise(function(resolve, reject) {\n",
              "        var s = document.createElement('script');\n",
              "        s.src = paths[lib];\n",
              "        s.async = true;\n",
              "        s.onload = () => resolve(paths[lib]);\n",
              "        s.onerror = () => reject(`Error loading script: ${paths[lib]}`);\n",
              "        document.getElementsByTagName(\"head\")[0].appendChild(s);\n",
              "      });\n",
              "    }\n",
              "\n",
              "    function showError(err) {\n",
              "      outputDiv.innerHTML = `<div class=\"error\" style=\"color:red;\">${err}</div>`;\n",
              "      throw err;\n",
              "    }\n",
              "\n",
              "    function displayChart(vegaEmbed) {\n",
              "      vegaEmbed(outputDiv, spec, embedOpt)\n",
              "        .catch(err => showError(`Javascript Error: ${err.message}<br>This usually means there's a typo in your chart specification. See the javascript console for the full traceback.`));\n",
              "    }\n",
              "\n",
              "    if(typeof define === \"function\" && define.amd) {\n",
              "      requirejs.config({paths});\n",
              "      require([\"vega-embed\"], displayChart, err => showError(`Error loading script: ${err.message}`));\n",
              "    } else if (typeof vegaEmbed === \"function\") {\n",
              "      displayChart(vegaEmbed);\n",
              "    } else {\n",
              "      loadScript(\"vega\")\n",
              "        .then(() => loadScript(\"vega-lite\"))\n",
              "        .then(() => loadScript(\"vega-embed\"))\n",
              "        .catch(showError)\n",
              "        .then(() => displayChart(vegaEmbed));\n",
              "    }\n",
              "  })({\"config\": {\"view\": {\"continuousWidth\": 400, \"continuousHeight\": 300}}, \"data\": {\"name\": \"data-b5dbb04f4578e588524ad985e1b26fb0\"}, \"mark\": {\"type\": \"circle\", \"size\": 100}, \"encoding\": {\"color\": {\"type\": \"nominal\", \"field\": \"Region\"}, \"tooltip\": {\"type\": \"quantitative\", \"field\": \"GDP\"}, \"x\": {\"type\": \"nominal\", \"field\": \"Country\"}, \"y\": {\"type\": \"quantitative\", \"field\": \"Literacy\"}}, \"selection\": {\"selector030\": {\"type\": \"interval\", \"bind\": \"scales\", \"encodings\": [\"x\", \"y\"]}}, \"title\": \"Countries Literacy\", \"$schema\": \"https://vega.github.io/schema/vega-lite/v4.8.1.json\", \"datasets\": {\"data-b5dbb04f4578e588524ad985e1b26fb0\": [{\"Country\": \"Luxembourg \", \"Region\": \"WESTERN EUROPE                     \", \"Population\": 474413, \"Area_sq_mi\": 2586, \"Density\": \"183,5\", \"Coastline (coast/area ratio)\": \"0,00\", \"Net migration\": \"8,97\", \"Infant_Mortality_per_1000\": \"4,81\", \"GDP\": 55100.0, \"Literacy\": 100.0, \"Phones_per_1000\": \"515,4\", \"Arable (%)\": \"23,28\", \"Crops (%)\": \"0,4\", \"Other (%)\": \"76,32\", \"Climate\": null, \"Birthrate\": \"11.94\", \"Deathrate\": \"8.41\", \"Agriculture\": \"0,01\", \"Industry\": \"0,13\", \"Service\": \"0,86\", \"Climate_desc\": \"Unknown\", \"Population_normalized\": 0.0015896203583641252}, {\"Country\": \"Norway \", \"Region\": \"WESTERN EUROPE                     \", \"Population\": 4610820, \"Area_sq_mi\": 323802, \"Density\": \"14,2\", \"Coastline (coast/area ratio)\": \"7,77\", \"Net migration\": \"1,74\", \"Infant_Mortality_per_1000\": \"3,7\", \"GDP\": 37800.0, \"Literacy\": 100.0, \"Phones_per_1000\": \"461,7\", \"Arable (%)\": \"2,87\", \"Crops (%)\": \"0\", \"Other (%)\": \"97,13\", \"Climate\": \"3\", \"Birthrate\": \"11.46\", \"Deathrate\": \"9.4\", \"Agriculture\": \"0,021\", \"Industry\": \"0,415\", \"Service\": \"0,564\", \"Climate_desc\": \"Humid\", \"Population_normalized\": 0.01544952044052856}, {\"Country\": \"United States \", \"Region\": \"NORTHERN AMERICA                   \", \"Population\": 298444215, \"Area_sq_mi\": 9631420, \"Density\": \"31,0\", \"Coastline (coast/area ratio)\": \"0,21\", \"Net migration\": \"3,41\", \"Infant_Mortality_per_1000\": \"6,5\", \"GDP\": 37800.0, \"Literacy\": 97.0, \"Phones_per_1000\": \"898,0\", \"Arable (%)\": \"19,13\", \"Crops (%)\": \"0,22\", \"Other (%)\": \"80,65\", \"Climate\": \"3\", \"Birthrate\": \"14.14\", \"Deathrate\": \"8.26\", \"Agriculture\": \"0,01\", \"Industry\": \"0,204\", \"Service\": \"0,787\", \"Climate_desc\": \"Humid\", \"Population_normalized\": 1.0}, {\"Country\": \"Bermuda \", \"Region\": \"NORTHERN AMERICA                   \", \"Population\": 65773, \"Area_sq_mi\": 53, \"Density\": \"1241,0\", \"Coastline (coast/area ratio)\": \"194,34\", \"Net migration\": \"2,49\", \"Infant_Mortality_per_1000\": \"8,53\", \"GDP\": 36000.0, \"Literacy\": 98.0, \"Phones_per_1000\": \"851,4\", \"Arable (%)\": \"20\", \"Crops (%)\": \"0\", \"Other (%)\": \"80\", \"Climate\": \"2\", \"Birthrate\": \"11.4\", \"Deathrate\": \"7.74\", \"Agriculture\": \"0,01\", \"Industry\": \"0,1\", \"Service\": \"0,89\", \"Climate_desc\": \"Wet tropical\", \"Population_normalized\": 0.00022038624538257509}, {\"Country\": \"Cayman Islands \", \"Region\": \"LATIN AMER. & CARIB    \", \"Population\": 45436, \"Area_sq_mi\": 262, \"Density\": \"173,4\", \"Coastline (coast/area ratio)\": \"61,07\", \"Net migration\": \"18,75\", \"Infant_Mortality_per_1000\": \"8,19\", \"GDP\": 35000.0, \"Literacy\": 98.0, \"Phones_per_1000\": \"836,3\", \"Arable (%)\": \"3,85\", \"Crops (%)\": \"0\", \"Other (%)\": \"96,15\", \"Climate\": \"2\", \"Birthrate\": \"12.74\", \"Deathrate\": \"4.89\", \"Agriculture\": \"0,014\", \"Industry\": \"0,032\", \"Service\": \"0,954\", \"Climate_desc\": \"Wet tropical\", \"Population_normalized\": 0.00015224285717851827}, {\"Country\": \"San Marino \", \"Region\": \"WESTERN EUROPE                     \", \"Population\": 29251, \"Area_sq_mi\": 61, \"Density\": \"479,5\", \"Coastline (coast/area ratio)\": \"0,00\", \"Net migration\": \"10,98\", \"Infant_Mortality_per_1000\": \"5,73\", \"GDP\": 34600.0, \"Literacy\": 96.0, \"Phones_per_1000\": \"704,3\", \"Arable (%)\": \"16,67\", \"Crops (%)\": \"0\", \"Other (%)\": \"83,33\", \"Climate\": null, \"Birthrate\": \"10.02\", \"Deathrate\": \"8.17\", \"Agriculture\": null, \"Industry\": null, \"Service\": null, \"Climate_desc\": \"Unknown\", \"Population_normalized\": 9.801161667683859e-05}, {\"Country\": \"Switzerland \", \"Region\": \"WESTERN EUROPE                     \", \"Population\": 7523934, \"Area_sq_mi\": 41290, \"Density\": \"182,2\", \"Coastline (coast/area ratio)\": \"0,00\", \"Net migration\": \"4,05\", \"Infant_Mortality_per_1000\": \"4,39\", \"GDP\": 32700.0, \"Literacy\": 99.0, \"Phones_per_1000\": \"680,9\", \"Arable (%)\": \"10,42\", \"Crops (%)\": \"0,61\", \"Other (%)\": \"88,97\", \"Climate\": \"3\", \"Birthrate\": \"9.71\", \"Deathrate\": \"8.49\", \"Agriculture\": \"0,015\", \"Industry\": \"0,34\", \"Service\": \"0,645\", \"Climate_desc\": \"Humid\", \"Population_normalized\": 0.025210520498780652}, {\"Country\": \"Denmark \", \"Region\": \"WESTERN EUROPE                     \", \"Population\": 5450661, \"Area_sq_mi\": 43094, \"Density\": \"126,5\", \"Coastline (coast/area ratio)\": \"16,97\", \"Net migration\": \"2,48\", \"Infant_Mortality_per_1000\": \"4,56\", \"GDP\": 31100.0, \"Literacy\": 100.0, \"Phones_per_1000\": \"614,6\", \"Arable (%)\": \"54,02\", \"Crops (%)\": \"0,19\", \"Other (%)\": \"45,79\", \"Climate\": \"3\", \"Birthrate\": \"11.13\", \"Deathrate\": \"10.36\", \"Agriculture\": \"0,018\", \"Industry\": \"0,246\", \"Service\": \"0,735\", \"Climate_desc\": \"Humid\", \"Population_normalized\": 0.01826358403361915}, {\"Country\": \"Iceland \", \"Region\": \"WESTERN EUROPE                     \", \"Population\": 299388, \"Area_sq_mi\": 103000, \"Density\": \"2,9\", \"Coastline (coast/area ratio)\": \"4,83\", \"Net migration\": \"2,38\", \"Infant_Mortality_per_1000\": \"3,31\", \"GDP\": 30900.0, \"Literacy\": 99.9, \"Phones_per_1000\": \"647,7\", \"Arable (%)\": \"0,07\", \"Crops (%)\": \"0\", \"Other (%)\": \"99,93\", \"Climate\": \"3\", \"Birthrate\": \"13.64\", \"Deathrate\": \"6.72\", \"Agriculture\": \"0,086\", \"Industry\": \"0,15\", \"Service\": \"0,765\", \"Climate_desc\": \"Humid\", \"Population_normalized\": 0.0010031623497878824}, {\"Country\": \"Austria \", \"Region\": \"WESTERN EUROPE                     \", \"Population\": 8192880, \"Area_sq_mi\": 83870, \"Density\": \"97,7\", \"Coastline (coast/area ratio)\": \"0,00\", \"Net migration\": \"2\", \"Infant_Mortality_per_1000\": \"4,66\", \"GDP\": 30000.0, \"Literacy\": 98.0, \"Phones_per_1000\": \"452,2\", \"Arable (%)\": \"16,91\", \"Crops (%)\": \"0,86\", \"Other (%)\": \"82,23\", \"Climate\": \"3\", \"Birthrate\": \"8.74\", \"Deathrate\": \"9.76\", \"Agriculture\": \"0,018\", \"Industry\": \"0,304\", \"Service\": \"0,678\", \"Climate_desc\": \"Humid\", \"Population_normalized\": 0.027451964515378527}, {\"Country\": \"East Timor \", \"Region\": \"ASIA (EX. NEAR EAST)         \", \"Population\": 1062777, \"Area_sq_mi\": 15007, \"Density\": \"70,8\", \"Coastline (coast/area ratio)\": \"4,70\", \"Net migration\": \"0\", \"Infant_Mortality_per_1000\": \"47,41\", \"GDP\": 500.0, \"Literacy\": 58.6, \"Phones_per_1000\": null, \"Arable (%)\": \"4,71\", \"Crops (%)\": \"0,67\", \"Other (%)\": \"94,62\", \"Climate\": \"2\", \"Birthrate\": \"26.99\", \"Deathrate\": \"6.24\", \"Agriculture\": \"0,085\", \"Industry\": \"0,231\", \"Service\": \"0,684\", \"Climate_desc\": \"Wet tropical\", \"Population_normalized\": 0.0035610574659656244}, {\"Country\": \"Somalia \", \"Region\": \"SUB-SAHARAN AFRICA                 \", \"Population\": 8863338, \"Area_sq_mi\": 637657, \"Density\": \"13,9\", \"Coastline (coast/area ratio)\": \"0,47\", \"Net migration\": \"5,37\", \"Infant_Mortality_per_1000\": \"116,7\", \"GDP\": 500.0, \"Literacy\": 37.8, \"Phones_per_1000\": \"11,3\", \"Arable (%)\": \"1,67\", \"Crops (%)\": \"0,04\", \"Other (%)\": \"98,29\", \"Climate\": \"1\", \"Birthrate\": \"45.13\", \"Deathrate\": \"16.63\", \"Agriculture\": \"0,65\", \"Industry\": \"0,1\", \"Service\": \"0,25\", \"Climate_desc\": \"Dry tropical\", \"Population_normalized\": 0.029698474805417152}, {\"Country\": \"Sierra Leone \", \"Region\": \"SUB-SAHARAN AFRICA                 \", \"Population\": 6005250, \"Area_sq_mi\": 71740, \"Density\": \"83,7\", \"Coastline (coast/area ratio)\": \"0,56\", \"Net migration\": \"0\", \"Infant_Mortality_per_1000\": \"143,64\", \"GDP\": 500.0, \"Literacy\": 31.4, \"Phones_per_1000\": \"4,0\", \"Arable (%)\": \"6,98\", \"Crops (%)\": \"0,89\", \"Other (%)\": \"92,13\", \"Climate\": \"2\", \"Birthrate\": \"45.76\", \"Deathrate\": \"23.03\", \"Agriculture\": \"0,49\", \"Industry\": \"0,31\", \"Service\": \"0,21\", \"Climate_desc\": \"Wet tropical\", \"Population_normalized\": 0.020121850912740928}, {\"Country\": \"Burundi \", \"Region\": \"SUB-SAHARAN AFRICA                 \", \"Population\": 8090068, \"Area_sq_mi\": 27830, \"Density\": \"290,7\", \"Coastline (coast/area ratio)\": \"0,00\", \"Net migration\": \"-0,06\", \"Infant_Mortality_per_1000\": \"69,29\", \"GDP\": 600.0, \"Literacy\": 51.6, \"Phones_per_1000\": \"3,4\", \"Arable (%)\": \"35,05\", \"Crops (%)\": \"14,02\", \"Other (%)\": \"50,93\", \"Climate\": \"2\", \"Birthrate\": \"42.22\", \"Deathrate\": \"13.46\", \"Agriculture\": \"0,463\", \"Industry\": \"0,203\", \"Service\": \"0,334\", \"Climate_desc\": \"Wet tropical\", \"Population_normalized\": 0.027107471324247314}, {\"Country\": \"Tanzania \", \"Region\": \"SUB-SAHARAN AFRICA                 \", \"Population\": 37445392, \"Area_sq_mi\": 945087, \"Density\": \"39,6\", \"Coastline (coast/area ratio)\": \"0,15\", \"Net migration\": \"-2,06\", \"Infant_Mortality_per_1000\": \"98,54\", \"GDP\": 600.0, \"Literacy\": 78.2, \"Phones_per_1000\": \"4,0\", \"Arable (%)\": \"4,52\", \"Crops (%)\": \"1,08\", \"Other (%)\": \"94,4\", \"Climate\": null, \"Birthrate\": \"37.71\", \"Deathrate\": \"16.39\", \"Agriculture\": \"0,432\", \"Industry\": \"0,172\", \"Service\": \"0,396\", \"Climate_desc\": \"Unknown\", \"Population_normalized\": 0.12546864746565786}, {\"Country\": \"Gaza Strip \", \"Region\": \"NEAR EAST                          \", \"Population\": 1428757, \"Area_sq_mi\": 360, \"Density\": \"3968,8\", \"Coastline (coast/area ratio)\": \"11,11\", \"Net migration\": \"1,6\", \"Infant_Mortality_per_1000\": \"22,93\", \"GDP\": 600.0, \"Literacy\": null, \"Phones_per_1000\": \"244,3\", \"Arable (%)\": \"28,95\", \"Crops (%)\": \"21,05\", \"Other (%)\": \"50\", \"Climate\": \"3\", \"Birthrate\": \"39.45\", \"Deathrate\": \"3.8\", \"Agriculture\": \"0,03\", \"Industry\": \"0,283\", \"Service\": \"0,687\", \"Climate_desc\": \"Humid\", \"Population_normalized\": 0.004787350292583155}, {\"Country\": \"Malawi \", \"Region\": \"SUB-SAHARAN AFRICA                 \", \"Population\": 13013926, \"Area_sq_mi\": 118480, \"Density\": \"109,8\", \"Coastline (coast/area ratio)\": \"0,00\", \"Net migration\": \"0\", \"Infant_Mortality_per_1000\": \"103,32\", \"GDP\": 600.0, \"Literacy\": 62.7, \"Phones_per_1000\": \"7,9\", \"Arable (%)\": \"23,38\", \"Crops (%)\": \"1,49\", \"Other (%)\": \"75,13\", \"Climate\": \"2\", \"Birthrate\": \"43.13\", \"Deathrate\": \"19.33\", \"Agriculture\": \"0,342\", \"Industry\": \"0,158\", \"Service\": \"0,499\", \"Climate_desc\": \"Wet tropical\", \"Population_normalized\": 0.0436058913053483}, {\"Country\": \"Afghanistan \", \"Region\": \"ASIA (EX. NEAR EAST)         \", \"Population\": 31056997, \"Area_sq_mi\": 647500, \"Density\": \"48,0\", \"Coastline (coast/area ratio)\": \"0,00\", \"Net migration\": \"23,06\", \"Infant_Mortality_per_1000\": \"163,07\", \"GDP\": 700.0, \"Literacy\": 36.0, \"Phones_per_1000\": \"3,2\", \"Arable (%)\": \"12,13\", \"Crops (%)\": \"0,22\", \"Other (%)\": \"87,65\", \"Climate\": \"1\", \"Birthrate\": \"46.6\", \"Deathrate\": \"20.34\", \"Agriculture\": \"0,38\", \"Industry\": \"0,24\", \"Service\": \"0,38\", \"Climate_desc\": \"Dry tropical\", \"Population_normalized\": 0.10406298879004909}, {\"Country\": \"Congo, Repub. of the \", \"Region\": \"SUB-SAHARAN AFRICA                 \", \"Population\": 3702314, \"Area_sq_mi\": 342000, \"Density\": \"10,8\", \"Coastline (coast/area ratio)\": \"0,05\", \"Net migration\": \"-0,17\", \"Infant_Mortality_per_1000\": \"93,86\", \"GDP\": 700.0, \"Literacy\": 83.8, \"Phones_per_1000\": \"3,7\", \"Arable (%)\": \"0,51\", \"Crops (%)\": \"0,13\", \"Other (%)\": \"99,36\", \"Climate\": \"2\", \"Birthrate\": \"42.57\", \"Deathrate\": \"12.93\", \"Agriculture\": \"0,062\", \"Industry\": \"0,57\", \"Service\": \"0,369\", \"Climate_desc\": \"Wet tropical\", \"Population_normalized\": 0.012405380348886977}, {\"Country\": \"Eritrea \", \"Region\": \"SUB-SAHARAN AFRICA                 \", \"Population\": 4786994, \"Area_sq_mi\": 121320, \"Density\": \"39,5\", \"Coastline (coast/area ratio)\": \"1,84\", \"Net migration\": \"0\", \"Infant_Mortality_per_1000\": \"74,87\", \"GDP\": 700.0, \"Literacy\": 58.6, \"Phones_per_1000\": \"7,9\", \"Arable (%)\": \"4,95\", \"Crops (%)\": \"0,03\", \"Other (%)\": \"95,02\", \"Climate\": \"1,5\", \"Birthrate\": \"34.33\", \"Deathrate\": \"9.6\", \"Agriculture\": \"0,102\", \"Industry\": \"0,254\", \"Service\": \"0,643\", \"Climate_desc\": \"Unknown\", \"Population_normalized\": 0.01603982841483458}]}}, {\"mode\": \"vega-lite\"});\n",
              "</script>"
            ]
          },
          "metadata": {
            "tags": []
          },
          "execution_count": 250
        }
      ]
    },
    {
      "cell_type": "code",
      "metadata": {
        "id": "l7b6hnbhV6H_"
      },
      "source": [
        ""
      ],
      "execution_count": null,
      "outputs": []
    }
  ]
}